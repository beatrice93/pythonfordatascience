{
 "cells": [
  {
   "cell_type": "markdown",
   "metadata": {},
   "source": [
    "# Visualizing uncertainty\n",
    "\n",
    "Given a value $n$, how confident are we that it is contained in a set of observations?\n",
    "\n",
    "This interactive plot allows the user to compare the height/confidence intervals of randomly generated sets of observations, by adapting the color of the bars to the chosen $n$. If $n$ is _very likely_ (that is, two standard deviations away from the mean) larger than our observations, the bar is red. If $n$ is _ver likely_ lower, the bar is blue. For values closer to the mean, the bar color is picked from a diverging Red-Blue colormap.\n",
    "\n",
    "The horizontal line can be dragged to set $n$. \n",
    " \n",
    "Possible improvements/fixes:\n",
    " - Allow user to set a y-interval instead of just a y-value;\n",
    " - Inspect a bar by clicking on it: the other bars are colored depending on how likely the observations are to be higher/lower than in the selected bar;\n",
    " - Make this prettier;\n",
    " \n",
    "_Inspired by the coursera \"Applied data science with Python\" course from the University of Michigan. This is Assignment 3 from the \"Applied Plotting, Charting & Data Representation\" module, with slight modifications._"
   ]
  },
  {
   "cell_type": "code",
   "execution_count": 1,
   "metadata": {},
   "outputs": [],
   "source": [
    "import pandas as pd\n",
    "import numpy as np\n",
    "import matplotlib.pyplot as plt\n",
    "import matplotlib.cm as cm  # colormaps\n",
    "import matplotlib as mpl"
   ]
  },
  {
   "cell_type": "code",
   "execution_count": 2,
   "metadata": {},
   "outputs": [],
   "source": [
    "%matplotlib widget"
   ]
  },
  {
   "cell_type": "code",
   "execution_count": 3,
   "metadata": {},
   "outputs": [],
   "source": [
    "class DraggableLine:\n",
    "    def __init__(self, line):\n",
    "        self.lne = line\n",
    "        self.press = None\n",
    "\n",
    "    def connect(self):\n",
    "        self.cidpress = self.lne.figure.canvas.mpl_connect(\n",
    "            'button_press_event', self.on_press)\n",
    "        self.cidrelease = self.lne.figure.canvas.mpl_connect(\n",
    "            'button_release_event', self.on_release)\n",
    "        self.cidmotion = self.lne.figure.canvas.mpl_connect(\n",
    "            'motion_notify_event', self.on_motion)\n",
    "\n",
    "    def on_press(self, event):\n",
    "        'On button press, check whether mouse is on line'\n",
    "        if event.inaxes != self.lne.axes: return\n",
    "        contains, indices = self.lne.contains(event)\n",
    "        if contains:\n",
    "            self.lne.set_ydata(event.ydata)\n",
    "            self.press = True\n",
    "\n",
    "    def on_motion(self, event):\n",
    "        'on motion, move the line'\n",
    "        if self.press is None: return\n",
    "        if event.inaxes != self.lne.axes: return\n",
    "        self.lne.set_ydata(event.ydata)\n",
    "\n",
    "        self.lne.figure.canvas.draw()\n",
    "\n",
    "\n",
    "\n",
    "    def on_release(self, event):\n",
    "        'on release we reset the press data'\n",
    "        self.press = None\n",
    "        self.lne.figure.canvas.draw()\n",
    "\n",
    "    def disconnect(self):\n",
    "        'disconnect all the stored connection ids'\n",
    "        self.rect.figure.canvas.mpl_disconnect(self.cidpress)\n",
    "        self.rect.figure.canvas.mpl_disconnect(self.cidrelease)\n",
    "        self.rect.figure.canvas.mpl_disconnect(self.cidmotion)\n",
    "\n",
    "\n",
    "class ColorChangingBar:\n",
    "    def __init__(self, rect, err, cmap, draggableline):\n",
    "        self.rect = rect\n",
    "        self.height = self.rect.get_height()\n",
    "        self.err = err\n",
    "        self.press = None\n",
    "        self.colormap = cmap\n",
    "        self.lne = draggableline\n",
    "\n",
    "    def connect(self):\n",
    "        self.cidpress = self.rect.figure.canvas.mpl_connect(\n",
    "            'button_press_event', self.on_press)\n",
    "        self.cidrelease = self.rect.figure.canvas.mpl_connect(\n",
    "            'button_release_event', self.on_release)\n",
    "        self.cidmotion = self.rect.figure.canvas.mpl_connect(\n",
    "            'motion_notify_event', self.on_motion)\n",
    "\n",
    "    def change_colors(self, n):\n",
    "        confidence = (n - self.height) / (self.err)\n",
    "        self.rect.set(color=self.colormap.to_rgba(confidence))\n",
    "\n",
    "    def on_press(self, event):\n",
    "        'on button press, store some data'\n",
    "        if event.inaxes != self.rect.axes: return\n",
    "        contains, indices = self.lne.contains(event)\n",
    "        if contains:\n",
    "            self.press = True\n",
    "            self.change_colors(int(event.ydata))\n",
    "\n",
    "    def on_motion(self, event):\n",
    "        if self.press is None: return\n",
    "        if event.inaxes != self.rect.axes: return\n",
    "        self.change_colors(int(event.ydata))\n",
    "\n",
    "    def on_release(self, event):\n",
    "        'on release we reset the press data'\n",
    "        self.press = None\n",
    "\n",
    "    def disconnect(self):\n",
    "        'disconnect all the stored connection ids'\n",
    "        self.rect.figure.canvas.mpl_disconnect(self.cidpress)\n",
    "        self.rect.figure.canvas.mpl_disconnect(self.cidrelease)\n",
    "        self.rect.figure.canvas.mpl_disconnect(self.cidmotion)\n"
   ]
  },
  {
   "cell_type": "code",
   "execution_count": 4,
   "metadata": {
    "scrolled": true
   },
   "outputs": [],
   "source": [
    "np.random.seed(12345)\n",
    "\n",
    "df = pd.DataFrame([np.random.normal(32000,200000,3650),\n",
    "                   np.random.normal(43000,100000,3650),\n",
    "                   np.random.normal(43500,140000,3650),\n",
    "                   np.random.normal(48000,70000,3650)],\n",
    "                  index=[1992,1993,1994,1995])\n",
    "\n",
    "df['mean'] = df.mean(axis = 1)\n",
    "df['std'] = 2 * df.sem(axis = 1)"
   ]
  },
  {
   "cell_type": "code",
   "execution_count": 5,
   "metadata": {},
   "outputs": [
    {
     "data": {
      "application/vnd.jupyter.widget-view+json": {
       "model_id": "1027df583c784f17bd2501271108e800",
       "version_major": 2,
       "version_minor": 0
      },
      "text/plain": [
       "Canvas(toolbar=Toolbar(toolitems=[('Home', 'Reset original view', 'home', 'home'), ('Back', 'Back to previous …"
      ]
     },
     "metadata": {},
     "output_type": "display_data"
    }
   ],
   "source": [
    "fig, ax = plt.subplots()\n",
    "\n",
    "norm = mpl.colors.Normalize(vmin=-1, vmax=1)\n",
    "my_colors = cm.ScalarMappable(cmap='RdBu', norm=norm)\n",
    "plt.colorbar(my_colors)\n",
    "\n",
    "ax.set(facecolor='white')\n",
    "for spine in ['top', 'bottom', 'left', 'right']:\n",
    "    ax.spines[spine].set_visible(False)\n",
    "\n",
    "ax.xaxis.set(ticks=range(1992, 1996))\n",
    "bars = ax.bar(df.index, df['mean'], yerr=df['std'], color='tab:gray', capsize=5)\n",
    "\n",
    "hline = ax.axhline(y=20000, color='black', lw=1.1, ls=\"--\")\n",
    "dl = DraggableLine(hline)\n",
    "dl.connect()\n",
    "\n",
    "mybars = []\n",
    "for bar, err in zip(bars, df['std']):\n",
    "    colbar = ColorChangingBar(bar, err, my_colors, hline)\n",
    "    colbar.connect()\n",
    "    mybars.append(colbar)  # reference so callback doesn't get garbaged \n",
    "    "
   ]
  },
  {
   "cell_type": "code",
   "execution_count": null,
   "metadata": {},
   "outputs": [],
   "source": []
  }
 ],
 "metadata": {
  "kernelspec": {
   "display_name": "Python 3",
   "language": "python",
   "name": "python3"
  },
  "language_info": {
   "codemirror_mode": {
    "name": "ipython",
    "version": 3
   },
   "file_extension": ".py",
   "mimetype": "text/x-python",
   "name": "python",
   "nbconvert_exporter": "python",
   "pygments_lexer": "ipython3",
   "version": "3.8.2"
  }
 },
 "nbformat": 4,
 "nbformat_minor": 4
}
